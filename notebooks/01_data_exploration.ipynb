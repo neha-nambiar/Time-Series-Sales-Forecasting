{
  "cells": [
    {
      "cell_type": "code",
      "execution_count": null,
      "metadata": {
        "id": "6h94w7Sw9ePu"
      },
      "outputs": [],
      "source": [
        "import pandas as pd\n",
        "import numpy as np\n",
        "import matplotlib.pyplot as plt\n",
        "import seaborn as sns\n",
        "import datetime"
      ]
    },
    {
      "cell_type": "code",
      "execution_count": null,
      "metadata": {
        "id": "C-cEH856NOkb"
      },
      "outputs": [],
      "source": [
        "import warnings\n",
        "warnings.filterwarnings('ignore')"
      ]
    },
    {
      "cell_type": "code",
      "execution_count": null,
      "metadata": {
        "id": "ZkYJeHMt9sco"
      },
      "outputs": [],
      "source": [
        "!7z x /content/drive/MyDrive/train.csv.7z\n",
        "!7z x /content/drive/MyDrive/items.csv.7z\n",
        "!7z x /content/drive/MyDrive/stores.csv.7z"
      ]
    },
    {
      "cell_type": "code",
      "execution_count": null,
      "metadata": {
        "id": "v2QVzWw0-DRZ"
      },
      "outputs": [],
      "source": [
        "!pip install pyspark"
      ]
    },
    {
      "cell_type": "markdown",
      "metadata": {
        "id": "wRmyRv3xQ5q8"
      },
      "source": [
        "**Using spark given dataset's vast size**"
      ]
    },
    {
      "cell_type": "code",
      "execution_count": null,
      "metadata": {
        "id": "OCTPeeFr-Fg8"
      },
      "outputs": [],
      "source": [
        "from pyspark.sql import SparkSession\n",
        "spark = SparkSession.builder.appName('sparkpy').getOrCreate()"
      ]
    },
    {
      "cell_type": "code",
      "execution_count": null,
      "metadata": {
        "colab": {
          "base_uri": "https://localhost:8080/"
        },
        "id": "l4U8HrJ7-IRm",
        "outputId": "9f4aff77-a619-4caa-8f71-d50823dac8df"
      },
      "outputs": [
        {
          "name": "stdout",
          "output_type": "stream",
          "text": [
            "+---+----------+---------+--------+----------+\n",
            "| id|      date|store_nbr|item_nbr|unit_sales|\n",
            "+---+----------+---------+--------+----------+\n",
            "|  0|2013-01-01|       25|  103665|       7.0|\n",
            "|  1|2013-01-01|       25|  105574|       1.0|\n",
            "|  2|2013-01-01|       25|  105575|       2.0|\n",
            "|  3|2013-01-01|       25|  108079|       1.0|\n",
            "|  4|2013-01-01|       25|  108701|       1.0|\n",
            "|  5|2013-01-01|       25|  108786|       3.0|\n",
            "|  6|2013-01-01|       25|  108797|       1.0|\n",
            "|  7|2013-01-01|       25|  108952|       1.0|\n",
            "|  8|2013-01-01|       25|  111397|      13.0|\n",
            "|  9|2013-01-01|       25|  114790|       3.0|\n",
            "| 10|2013-01-01|       25|  114800|       1.0|\n",
            "| 11|2013-01-01|       25|  115267|       1.0|\n",
            "| 12|2013-01-01|       25|  115611|       1.0|\n",
            "| 13|2013-01-01|       25|  115693|       1.0|\n",
            "| 14|2013-01-01|       25|  115720|       5.0|\n",
            "| 15|2013-01-01|       25|  115850|       1.0|\n",
            "| 16|2013-01-01|       25|  115891|       6.0|\n",
            "| 17|2013-01-01|       25|  115892|      10.0|\n",
            "| 18|2013-01-01|       25|  115894|       5.0|\n",
            "| 19|2013-01-01|       25|  119024|       1.0|\n",
            "+---+----------+---------+--------+----------+\n",
            "only showing top 20 rows\n",
            "\n"
          ]
        }
      ],
      "source": [
        "sales= spark.read.csv('/content/train.csv',header=True)\n",
        "sales.show()"
      ]
    },
    {
      "cell_type": "code",
      "execution_count": null,
      "metadata": {
        "colab": {
          "base_uri": "https://localhost:8080/"
        },
        "id": "k5OEitWt-xlS",
        "outputId": "de25fd30-b912-428c-a492-102f3ea29c42"
      },
      "outputs": [
        {
          "name": "stdout",
          "output_type": "stream",
          "text": [
            "root\n",
            " |-- id: string (nullable = true)\n",
            " |-- date: date (nullable = true)\n",
            " |-- store_nbr: integer (nullable = true)\n",
            " |-- item_nbr: string (nullable = true)\n",
            " |-- unit_sales: float (nullable = true)\n",
            " |-- item_id: integer (nullable = true)\n",
            "\n"
          ]
        }
      ],
      "source": [
        "from pyspark.sql.types import DateType\n",
        "\n",
        "sales = sales.withColumn('store_nbr', sales['store_nbr'].cast(\"integer\"))\n",
        "sales = sales.withColumn('date', sales['date'].cast(DateType()))\n",
        "sales = sales.withColumn('item_id', sales['item_nbr'].cast(\"integer\"))\n",
        "sales = sales.withColumn('unit_sales', sales['unit_sales'].cast(\"float\"))\n",
        "\n",
        "sales.printSchema()"
      ]
    },
    {
      "cell_type": "code",
      "execution_count": null,
      "metadata": {
        "colab": {
          "base_uri": "https://localhost:8080/"
        },
        "id": "dWGtdVH26kI0",
        "outputId": "60f0b123-a118-4210-84e8-34a5ae5102ec"
      },
      "outputs": [
        {
          "name": "stdout",
          "output_type": "stream",
          "text": [
            "+---+----------+---------+----------+-------+\n",
            "| id|      date|store_nbr|unit_sales|item_id|\n",
            "+---+----------+---------+----------+-------+\n",
            "|  0|2013-01-01|       25|       7.0| 103665|\n",
            "|  1|2013-01-01|       25|       1.0| 105574|\n",
            "|  2|2013-01-01|       25|       2.0| 105575|\n",
            "+---+----------+---------+----------+-------+\n",
            "only showing top 3 rows\n",
            "\n"
          ]
        }
      ],
      "source": [
        "sales.show(3)"
      ]
    },
    {
      "cell_type": "code",
      "execution_count": null,
      "metadata": {
        "id": "Z4xGiqbP_9nZ"
      },
      "outputs": [],
      "source": [
        "items= spark.read.csv('/content/items.csv', header=True)"
      ]
    },
    {
      "cell_type": "code",
      "execution_count": null,
      "metadata": {
        "colab": {
          "base_uri": "https://localhost:8080/"
        },
        "id": "kf2XY1fm0lds",
        "outputId": "42a97a79-946a-42d7-89a2-39ccb05989e8"
      },
      "outputs": [
        {
          "name": "stdout",
          "output_type": "stream",
          "text": [
            "+--------+---------+-----+----------+\n",
            "|item_nbr|   family|class|perishable|\n",
            "+--------+---------+-----+----------+\n",
            "|   96995|GROCERY I| 1093|         0|\n",
            "|   99197|GROCERY I| 1067|         0|\n",
            "|  103501| CLEANING| 3008|         0|\n",
            "+--------+---------+-----+----------+\n",
            "only showing top 3 rows\n",
            "\n"
          ]
        }
      ],
      "source": [
        "items.show(3)"
      ]
    },
    {
      "cell_type": "code",
      "execution_count": null,
      "metadata": {
        "colab": {
          "base_uri": "https://localhost:8080/"
        },
        "id": "x7VQZ4bD_9vE",
        "outputId": "8d79833d-bb3c-4d8d-d168-df26e311e795"
      },
      "outputs": [
        {
          "name": "stdout",
          "output_type": "stream",
          "text": [
            "root\n",
            " |-- item_nbr: integer (nullable = true)\n",
            " |-- family: string (nullable = true)\n",
            " |-- class: integer (nullable = true)\n",
            " |-- perishable: integer (nullable = true)\n",
            "\n"
          ]
        }
      ],
      "source": [
        "items = items.withColumn('item_nbr', items['item_nbr'].cast(\"integer\"))\n",
        "items = items.withColumn('family', items['family'].cast(\"string\"))\n",
        "items = items.withColumn('class', items['class'].cast(\"integer\"))\n",
        "items = items.withColumn('perishable', items['perishable'].cast(\"integer\"))\n",
        "\n",
        "items.printSchema()"
      ]
    },
    {
      "cell_type": "code",
      "execution_count": null,
      "metadata": {
        "id": "Q0dpwwnb-6IR"
      },
      "outputs": [],
      "source": [
        "stores= spark.read.csv('/content/stores.csv', header=True)"
      ]
    },
    {
      "cell_type": "code",
      "execution_count": null,
      "metadata": {
        "colab": {
          "base_uri": "https://localhost:8080/"
        },
        "id": "LKUech4700Uj",
        "outputId": "2f6dd751-79db-45c1-a6b9-647cfa02e20d"
      },
      "outputs": [
        {
          "name": "stdout",
          "output_type": "stream",
          "text": [
            "+---------+-----+---------+----+-------+\n",
            "|store_nbr| city|    state|type|cluster|\n",
            "+---------+-----+---------+----+-------+\n",
            "|        1|Quito|Pichincha|   D|     13|\n",
            "|        2|Quito|Pichincha|   D|     13|\n",
            "|        3|Quito|Pichincha|   D|      8|\n",
            "+---------+-----+---------+----+-------+\n",
            "only showing top 3 rows\n",
            "\n"
          ]
        }
      ],
      "source": [
        "stores.show(3)"
      ]
    },
    {
      "cell_type": "code",
      "execution_count": null,
      "metadata": {
        "colab": {
          "base_uri": "https://localhost:8080/"
        },
        "id": "qiAuiHX2_9xP",
        "outputId": "f109f526-8815-412e-8c80-b248635b0ee8"
      },
      "outputs": [
        {
          "name": "stdout",
          "output_type": "stream",
          "text": [
            "root\n",
            " |-- store_nbr: string (nullable = true)\n",
            " |-- city: string (nullable = true)\n",
            " |-- state: string (nullable = true)\n",
            " |-- type: string (nullable = true)\n",
            " |-- cluster: integer (nullable = true)\n",
            " |-- store_id: integer (nullable = true)\n",
            "\n"
          ]
        }
      ],
      "source": [
        "stores = stores.withColumn('store_id', stores['store_nbr'].cast(\"integer\"))\n",
        "stores = stores.withColumn('city', stores['city'].cast(\"string\"))\n",
        "stores = stores.withColumn('state', stores['state'].cast(\"string\"))\n",
        "stores = stores.withColumn('type', stores['type'].cast(\"string\"))\n",
        "stores = stores.withColumn('cluster', stores['cluster'].cast(\"integer\"))\n",
        "stores.printSchema()"
      ]
    },
    {
      "cell_type": "code",
      "execution_count": null,
      "metadata": {
        "colab": {
          "base_uri": "https://localhost:8080/"
        },
        "id": "FeGeVZdZ1fVX",
        "outputId": "d1c78dd5-83cb-4dbb-ca10-371b090409b6"
      },
      "outputs": [
        {
          "data": {
            "text/plain": [
              "22"
            ]
          },
          "execution_count": 12,
          "metadata": {},
          "output_type": "execute_result"
        }
      ],
      "source": [
        "# Count of distinct cities present\n",
        "\n",
        "stores.select('city').distinct().count()"
      ]
    },
    {
      "cell_type": "code",
      "execution_count": null,
      "metadata": {
        "colab": {
          "base_uri": "https://localhost:8080/"
        },
        "id": "FaHcZ6QxbCqV",
        "outputId": "3d5d857c-9d00-4a47-a6d5-da6f2849cbc6"
      },
      "outputs": [
        {
          "data": {
            "text/plain": [
              "54"
            ]
          },
          "execution_count": 14,
          "metadata": {},
          "output_type": "execute_result"
        }
      ],
      "source": [
        "# Count of distinct stores present\n",
        "\n",
        "sales.select('store_nbr').distinct().count()"
      ]
    },
    {
      "cell_type": "code",
      "execution_count": 1,
      "metadata": {
        "colab": {
          "base_uri": "https://localhost:8080/"
        },
        "id": "vTiF2AcnRoJs",
        "outputId": "f3df7aa7-9794-43a7-fa0a-61179e18ba66"
      },
      "outputs": [
        {
          "data": {
            "text/plain": [
              "33"
            ]
          },
          "execution_count": 1,
          "metadata": {},
          "output_type": "execute_result"
        }
      ],
      "source": [
        "# Count of distinct item types present\n",
        "\n",
        "items.select('family').distinct().count()"
      ]
    },
    {
      "cell_type": "code",
      "execution_count": null,
      "metadata": {
        "id": "1KlsgerA4bn0"
      },
      "outputs": [],
      "source": [
        "# Merging all 3 dataframes\n",
        "\n",
        "sales_and_items = sales.join(items, sales.item_id==items.item_nbr, 'left')"
      ]
    },
    {
      "cell_type": "code",
      "execution_count": null,
      "metadata": {
        "colab": {
          "base_uri": "https://localhost:8080/"
        },
        "id": "jBIKOrCzAYb1",
        "outputId": "67659f13-0cb4-4355-f866-cc6a18debc4a"
      },
      "outputs": [
        {
          "name": "stdout",
          "output_type": "stream",
          "text": [
            "+---+----------+---------+----------+--------+------------+-----+----------+\n",
            "| id|      date|store_nbr|unit_sales|item_nbr|      family|class|perishable|\n",
            "+---+----------+---------+----------+--------+------------+-----+----------+\n",
            "|  0|2013-01-01|       25|       7.0|  103665|BREAD/BAKERY| 2712|         1|\n",
            "|  1|2013-01-01|       25|       1.0|  105574|   GROCERY I| 1045|         0|\n",
            "|  2|2013-01-01|       25|       2.0|  105575|   GROCERY I| 1045|         0|\n",
            "+---+----------+---------+----------+--------+------------+-----+----------+\n",
            "only showing top 3 rows\n",
            "\n"
          ]
        }
      ],
      "source": [
        "sales_and_items.show(3)"
      ]
    },
    {
      "cell_type": "code",
      "execution_count": null,
      "metadata": {
        "id": "XDDZWMur3TYT"
      },
      "outputs": [],
      "source": [
        "sales_items_stores = sales_and_items.join(stores, sales_and_items.store_nbr==stores.store_id, 'left')"
      ]
    },
    {
      "cell_type": "code",
      "execution_count": null,
      "metadata": {
        "id": "xyKx-jN17r85"
      },
      "outputs": [],
      "source": [
        "sales_items_stores = sales_items_stores.drop('store_id')"
      ]
    },
    {
      "cell_type": "code",
      "execution_count": null,
      "metadata": {
        "colab": {
          "base_uri": "https://localhost:8080/"
        },
        "id": "he7-YcGD3TV-",
        "outputId": "44482bae-7361-42cb-941e-e13fc1581057"
      },
      "outputs": [
        {
          "name": "stdout",
          "output_type": "stream",
          "text": [
            "+---+----------+---------+----------+--------+-------------+-----+----------+-------+-----------+----+-------+\n",
            "| id|      date|store_nbr|unit_sales|item_nbr|       family|class|perishable|   city|      state|type|cluster|\n",
            "+---+----------+---------+----------+--------+-------------+-----+----------+-------+-----------+----+-------+\n",
            "|  0|2013-01-01|       25|       7.0|  103665| BREAD/BAKERY| 2712|         1|Salinas|Santa Elena|   D|      1|\n",
            "|  1|2013-01-01|       25|       1.0|  105574|    GROCERY I| 1045|         0|Salinas|Santa Elena|   D|      1|\n",
            "|  2|2013-01-01|       25|       2.0|  105575|    GROCERY I| 1045|         0|Salinas|Santa Elena|   D|      1|\n",
            "|  3|2013-01-01|       25|       1.0|  108079|    GROCERY I| 1030|         0|Salinas|Santa Elena|   D|      1|\n",
            "|  4|2013-01-01|       25|       1.0|  108701|         DELI| 2644|         1|Salinas|Santa Elena|   D|      1|\n",
            "|  5|2013-01-01|       25|       3.0|  108786|     CLEANING| 3044|         0|Salinas|Santa Elena|   D|      1|\n",
            "|  6|2013-01-01|       25|       1.0|  108797|    GROCERY I| 1004|         0|Salinas|Santa Elena|   D|      1|\n",
            "|  7|2013-01-01|       25|       1.0|  108952|     CLEANING| 3024|         0|Salinas|Santa Elena|   D|      1|\n",
            "|  8|2013-01-01|       25|      13.0|  111397|    GROCERY I| 1072|         0|Salinas|Santa Elena|   D|      1|\n",
            "|  9|2013-01-01|       25|       3.0|  114790|    GROCERY I| 1004|         0|Salinas|Santa Elena|   D|      1|\n",
            "| 10|2013-01-01|       25|       1.0|  114800|PERSONAL CARE| 4126|         0|Salinas|Santa Elena|   D|      1|\n",
            "| 11|2013-01-01|       25|       1.0|  115267|     CLEANING| 3034|         0|Salinas|Santa Elena|   D|      1|\n",
            "| 12|2013-01-01|       25|       1.0|  115611|    GROCERY I| 1014|         0|Salinas|Santa Elena|   D|      1|\n",
            "| 13|2013-01-01|       25|       1.0|  115693|    GROCERY I| 1040|         0|Salinas|Santa Elena|   D|      1|\n",
            "| 14|2013-01-01|       25|       5.0|  115720|    GROCERY I| 1084|         0|Salinas|Santa Elena|   D|      1|\n",
            "| 15|2013-01-01|       25|       1.0|  115850|    GROCERY I| 1004|         0|Salinas|Santa Elena|   D|      1|\n",
            "| 16|2013-01-01|       25|       6.0|  115891|    GROCERY I| 1016|         0|Salinas|Santa Elena|   D|      1|\n",
            "| 17|2013-01-01|       25|      10.0|  115892|    GROCERY I| 1016|         0|Salinas|Santa Elena|   D|      1|\n",
            "| 18|2013-01-01|       25|       5.0|  115894|    GROCERY I| 1016|         0|Salinas|Santa Elena|   D|      1|\n",
            "| 19|2013-01-01|       25|       1.0|  119024|     CLEANING| 3026|         0|Salinas|Santa Elena|   D|      1|\n",
            "+---+----------+---------+----------+--------+-------------+-----+----------+-------+-----------+----+-------+\n",
            "only showing top 20 rows\n",
            "\n"
          ]
        }
      ],
      "source": [
        "sales_items_stores.show(truncate=True)"
      ]
    },
    {
      "cell_type": "code",
      "execution_count": null,
      "metadata": {
        "id": "lAai3PHuAhYM"
      },
      "outputs": [],
      "source": [
        "distinct_items_df = items.dropDuplicates([\"family\"])"
      ]
    },
    {
      "cell_type": "code",
      "execution_count": null,
      "metadata": {
        "colab": {
          "base_uri": "https://localhost:8080/"
        },
        "id": "6xQnmH1BExzJ",
        "outputId": "fb58fc81-1c63-49fc-816e-6d47677b6021"
      },
      "outputs": [
        {
          "name": "stdout",
          "output_type": "stream",
          "text": [
            "+--------------------+----------+\n",
            "|              family|perishable|\n",
            "+--------------------+----------+\n",
            "|      PREPARED FOODS|         1|\n",
            "| HOME AND KITCHEN II|         0|\n",
            "|          LADIESWEAR|         0|\n",
            "|     LAWN AND GARDEN|         0|\n",
            "|           GROCERY I|         0|\n",
            "|           BABY CARE|         0|\n",
            "|             PRODUCE|         1|\n",
            "|          AUTOMOTIVE|         0|\n",
            "|           BEVERAGES|         0|\n",
            "|           HOME CARE|         0|\n",
            "|        BREAD/BAKERY|         1|\n",
            "|               BOOKS|         0|\n",
            "|            LINGERIE|         0|\n",
            "|         CELEBRATION|         0|\n",
            "|          GROCERY II|         0|\n",
            "|               DAIRY|         1|\n",
            "|           MAGAZINES|         0|\n",
            "|             SEAFOOD|         1|\n",
            "|    LIQUOR,WINE,BEER|         0|\n",
            "|  HOME AND KITCHEN I|         0|\n",
            "|                DELI|         1|\n",
            "|PLAYERS AND ELECT...|         0|\n",
            "|             POULTRY|         1|\n",
            "|        FROZEN FOODS|         0|\n",
            "|SCHOOL AND OFFICE...|         0|\n",
            "|       PERSONAL CARE|         0|\n",
            "|            CLEANING|         0|\n",
            "|            HARDWARE|         0|\n",
            "|        PET SUPPLIES|         0|\n",
            "|              BEAUTY|         0|\n",
            "|                EGGS|         1|\n",
            "|     HOME APPLIANCES|         0|\n",
            "|               MEATS|         1|\n",
            "+--------------------+----------+\n",
            "\n"
          ]
        }
      ],
      "source": [
        "distinct_items_df.select('family', 'perishable').show()"
      ]
    },
    {
      "cell_type": "code",
      "execution_count": null,
      "metadata": {
        "id": "P_N6GhoV_d8a"
      },
      "outputs": [],
      "source": [
        "distinct_states_df = stores.dropDuplicates([\"state\"])"
      ]
    },
    {
      "cell_type": "code",
      "execution_count": null,
      "metadata": {
        "colab": {
          "base_uri": "https://localhost:8080/"
        },
        "id": "3Vrw8eNN4-0n",
        "outputId": "60bdf8d5-2c43-47ed-c9f9-942ab6ccd39d"
      },
      "outputs": [
        {
          "name": "stdout",
          "output_type": "stream",
          "text": [
            "+--------------------+\n",
            "|               state|\n",
            "+--------------------+\n",
            "|              Manabi|\n",
            "|            Cotopaxi|\n",
            "|           Pichincha|\n",
            "|          Chimborazo|\n",
            "|              Guayas|\n",
            "|                Loja|\n",
            "|         Santa Elena|\n",
            "|            Imbabura|\n",
            "|              El Oro|\n",
            "|               Azuay|\n",
            "|             Bolivar|\n",
            "|          Tungurahua|\n",
            "|             Pastaza|\n",
            "|Santo Domingo de ...|\n",
            "|            Los Rios|\n",
            "|          Esmeraldas|\n",
            "+--------------------+\n",
            "\n"
          ]
        }
      ],
      "source": [
        "distinct_states_df.select('state').show()"
      ]
    },
    {
      "cell_type": "code",
      "execution_count": null,
      "metadata": {
        "id": "5mQIIWFbEZEx"
      },
      "outputs": [],
      "source": [
        "distinct_city_df = stores.dropDuplicates([\"city\"])"
      ]
    },
    {
      "cell_type": "code",
      "execution_count": null,
      "metadata": {
        "colab": {
          "base_uri": "https://localhost:8080/"
        },
        "id": "1bf41ZihEZEy",
        "outputId": "60bdf8d5-2c43-47ed-c9f9-942ab6ccd39d"
      },
      "outputs": [
        {
          "name": "stdout",
          "output_type": "stream",
          "text": [
            "+--------------------+\n",
            "|               state|\n",
            "+--------------------+\n",
            "|              Manabi|\n",
            "|            Cotopaxi|\n",
            "|           Pichincha|\n",
            "|          Chimborazo|\n",
            "|              Guayas|\n",
            "|                Loja|\n",
            "|         Santa Elena|\n",
            "|            Imbabura|\n",
            "|              El Oro|\n",
            "|               Azuay|\n",
            "|             Bolivar|\n",
            "|          Tungurahua|\n",
            "|             Pastaza|\n",
            "|Santo Domingo de ...|\n",
            "|            Los Rios|\n",
            "|          Esmeraldas|\n",
            "+--------------------+\n",
            "\n"
          ]
        }
      ],
      "source": [
        "distinct_states_df.select('state').show()"
      ]
    },
    {
      "cell_type": "code",
      "execution_count": null,
      "metadata": {
        "id": "kPrkZyr5axmW"
      },
      "outputs": [],
      "source": [
        "from pyspark.sql.functions import col"
      ]
    },
    {
      "cell_type": "code",
      "execution_count": null,
      "metadata": {
        "id": "uhmqtxn-EE_n"
      },
      "outputs": [],
      "source": [
        "items = distinct_items_df.select('family').collect()"
      ]
    },
    {
      "cell_type": "code",
      "execution_count": null,
      "metadata": {
        "id": "M0fKAKs2EE7n"
      },
      "outputs": [],
      "source": [
        "items = [item[0] for item in items]"
      ]
    },
    {
      "cell_type": "code",
      "execution_count": null,
      "metadata": {
        "colab": {
          "base_uri": "https://localhost:8080/"
        },
        "id": "WIiMpMQZEm5p",
        "outputId": "786c566b-f712-413a-ad62-11b402963cd2"
      },
      "outputs": [
        {
          "data": {
            "text/plain": [
              "['PREPARED FOODS',\n",
              " 'HOME AND KITCHEN II',\n",
              " 'LADIESWEAR',\n",
              " 'LAWN AND GARDEN',\n",
              " 'GROCERY I',\n",
              " 'BABY CARE',\n",
              " 'PRODUCE',\n",
              " 'AUTOMOTIVE',\n",
              " 'BEVERAGES',\n",
              " 'HOME CARE',\n",
              " 'BREAD/BAKERY',\n",
              " 'BOOKS',\n",
              " 'LINGERIE',\n",
              " 'CELEBRATION',\n",
              " 'GROCERY II',\n",
              " 'DAIRY',\n",
              " 'MAGAZINES',\n",
              " 'SEAFOOD',\n",
              " 'LIQUOR,WINE,BEER',\n",
              " 'HOME AND KITCHEN I',\n",
              " 'DELI',\n",
              " 'PLAYERS AND ELECTRONICS',\n",
              " 'POULTRY',\n",
              " 'FROZEN FOODS',\n",
              " 'SCHOOL AND OFFICE SUPPLIES',\n",
              " 'PERSONAL CARE',\n",
              " 'CLEANING',\n",
              " 'HARDWARE',\n",
              " 'PET SUPPLIES',\n",
              " 'BEAUTY',\n",
              " 'EGGS',\n",
              " 'HOME APPLIANCES',\n",
              " 'MEATS']"
            ]
          },
          "execution_count": 48,
          "metadata": {},
          "output_type": "execute_result"
        }
      ],
      "source": [
        "items"
      ]
    },
    {
      "cell_type": "code",
      "execution_count": null,
      "metadata": {
        "id": "YrxlClCoEE05"
      },
      "outputs": [],
      "source": [
        "cities = distinct_city_df.select('city').collect()"
      ]
    },
    {
      "cell_type": "code",
      "execution_count": null,
      "metadata": {
        "id": "M3rlVWmREkiX"
      },
      "outputs": [],
      "source": [
        "cities = [city[0] for city in cities]"
      ]
    },
    {
      "cell_type": "code",
      "execution_count": null,
      "metadata": {
        "colab": {
          "base_uri": "https://localhost:8080/"
        },
        "id": "IdhJHMwwEpyI",
        "outputId": "671859c0-bdd2-4bd5-994d-81124710b3eb"
      },
      "outputs": [
        {
          "data": {
            "text/plain": [
              "['Quevedo',\n",
              " 'Cuenca',\n",
              " 'Guaranda',\n",
              " 'Santo Domingo',\n",
              " 'Playas',\n",
              " 'Puyo',\n",
              " 'Quito',\n",
              " 'Manta',\n",
              " 'Latacunga',\n",
              " 'Guayaquil',\n",
              " 'Loja',\n",
              " 'Ibarra',\n",
              " 'El Carmen',\n",
              " 'Ambato',\n",
              " 'Machala',\n",
              " 'Daule',\n",
              " 'Cayambe',\n",
              " 'Salinas',\n",
              " 'Libertad',\n",
              " 'Babahoyo',\n",
              " 'Riobamba',\n",
              " 'Esmeraldas']"
            ]
          },
          "execution_count": 49,
          "metadata": {},
          "output_type": "execute_result"
        }
      ],
      "source": [
        "cities"
      ]
    },
    {
      "cell_type": "code",
      "execution_count": null,
      "metadata": {
        "id": "q1cncDHPARXN"
      },
      "outputs": [],
      "source": [
        "states = distinct_states_df.select('state').collect()"
      ]
    },
    {
      "cell_type": "code",
      "execution_count": null,
      "metadata": {
        "id": "vJOrne4JBxj4"
      },
      "outputs": [],
      "source": [
        "states = [state[0] for state in states]"
      ]
    },
    {
      "cell_type": "code",
      "execution_count": null,
      "metadata": {
        "colab": {
          "base_uri": "https://localhost:8080/"
        },
        "id": "_1sBF8c_SoLz",
        "outputId": "5072bcff-b478-4454-c9f9-c65c700474f3"
      },
      "outputs": [
        {
          "data": {
            "text/plain": [
              "['Manabi',\n",
              " 'Cotopaxi',\n",
              " 'Pichincha',\n",
              " 'Chimborazo',\n",
              " 'Guayas',\n",
              " 'Loja',\n",
              " 'Santa Elena',\n",
              " 'Imbabura',\n",
              " 'El Oro',\n",
              " 'Azuay',\n",
              " 'Bolivar',\n",
              " 'Tungurahua',\n",
              " 'Pastaza',\n",
              " 'Santo Domingo de los Tsachilas',\n",
              " 'Los Rios',\n",
              " 'Esmeraldas']"
            ]
          },
          "execution_count": 40,
          "metadata": {},
          "output_type": "execute_result"
        }
      ],
      "source": [
        "states"
      ]
    }
  ],
  "metadata": {
    "colab": {
      "provenance": []
    },
    "kernelspec": {
      "display_name": "Python 3",
      "name": "python3"
    },
    "language_info": {
      "name": "python"
    }
  },
  "nbformat": 4,
  "nbformat_minor": 0
}
